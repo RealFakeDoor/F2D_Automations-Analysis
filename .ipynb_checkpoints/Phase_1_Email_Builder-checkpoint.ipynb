{
 "cells": [
  {
   "cell_type": "code",
   "execution_count": 8,
   "id": "946e5342-a80b-45de-bf26-e6e55a6d693a",
   "metadata": {
    "tags": []
   },
   "outputs": [],
   "source": [
    "import pandas as pd\n",
    "import re\n",
    "from datetime import datetime, timedelta"
   ]
  },
  {
   "cell_type": "code",
   "execution_count": 9,
   "id": "7df9e6f0-fbcb-46ba-846a-face356c1f97",
   "metadata": {
    "jupyter": {
     "source_hidden": true
    },
    "tags": []
   },
   "outputs": [],
   "source": [
    "# Define a function to extract dates in 'dd/mm/yyyy' format within a specified year range\n",
    "def extract_dates(series, start_year=2014, end_year=2024):\n",
    "    dates = []\n",
    "    for value in series:\n",
    "        if isinstance(value, str):  # Check if the value is a string\n",
    "            # Find all matches of the date pattern 'dd/mm/yyyy'\n",
    "            matches = re.findall(r'\\b\\d{2}/\\d{2}/\\d{4}\\b', value)\n",
    "            for match in matches:\n",
    "                year = int(match.split('/')[-1])  # Extract the year from the date\n",
    "                if start_year <= year <= end_year:\n",
    "                    dates.append(match)\n",
    "        elif pd.to_datetime(value, errors='coerce') is not pd.NaT:  # Check if the value is a valid date\n",
    "            # Convert to 'dd/mm/yyyy' format and add to list\n",
    "            formatted_date = pd.to_datetime(value).strftime('%d/%m/%Y')\n",
    "            year = pd.to_datetime(value).year\n",
    "            if start_year <= year <= end_year:\n",
    "                dates.append(formatted_date)\n",
    "    return dates"
   ]
  },
  {
   "cell_type": "code",
   "execution_count": 10,
   "id": "7e9b86e4-17ae-4abe-8c35-46696dc324d2",
   "metadata": {
    "jupyter": {
     "source_hidden": true
    },
    "tags": []
   },
   "outputs": [],
   "source": [
    "def extract_email_info(df_schools, school_name):\n",
    "    # Strip any leading/trailing whitespace from the column names\n",
    "    df_schools.columns = df_schools.columns.str.strip()\n",
    "\n",
    "    # Collect all data for that school in particular as a pandas.Series\n",
    "    school_data = df_schools[df_schools['Organisation Name'] == school_name]\n",
    "\n",
    "    if school_data.empty:\n",
    "        raise ValueError(f\"School with name '{school_name}' not found.\")\n",
    "\n",
    "    school_data = school_data.iloc[0]\n",
    "\n",
    "    # Access the pandas.Series to collect all relevant information for the email.\n",
    "\n",
    "    # Collect School Contact Name\n",
    "    contact_name = school_data['Contact Name']\n",
    "\n",
    "    # Collect Contact Email\n",
    "    contact_email = school_data['Contact Email Adress']\n",
    "\n",
    "    # Collect the updated contact date\n",
    "    updated_contact = school_data['Updated contact?']\n",
    "\n",
    "    # Collect Email General\n",
    "    email_general = school_data['Email General']\n",
    "\n",
    "    # Collect School Type\n",
    "    school_type = school_data['School Type']\n",
    "\n",
    "    # Collect the name of LGA\n",
    "    lga_name = school_data['LGA']\n",
    "\n",
    "    # Extract dates from the school_data Series\n",
    "    workshop_history = extract_dates(school_data)\n",
    "\n",
    "    # Convert the list of dates to a pandas Series\n",
    "    workshop_dates = pd.Series(pd.to_datetime(workshop_history, format='%d/%m/%Y', errors='coerce'))\n",
    "\n",
    "    # Drop any NaT values\n",
    "    workshop_dates = workshop_dates.dropna()\n",
    "\n",
    "    # Collect how many workshops this school has done\n",
    "    number_of_workshops = len(workshop_dates)\n",
    "\n",
    "    # Collect the date of the last workshop this school attended\n",
    "    last_workshop_date = workshop_dates.max()\n",
    "    \n",
    "    funding_provider = school_data.get('Funding provider', 'Not Available')\n",
    "    \n",
    "    funding_provided = school_data['Funding']\n",
    "\n",
    "    # Return all relevant information\n",
    "    return {\n",
    "        'School Name':school_name,\n",
    "        'Contact Name': contact_name,\n",
    "        'Contact Email': contact_email,\n",
    "        'Updated Contact Date': updated_contact,\n",
    "        'Email General': email_general,\n",
    "        'School Type': school_type,\n",
    "        'LGA Name': lga_name,\n",
    "        'Number of Workshops': number_of_workshops,\n",
    "        'Last Workshop Date': last_workshop_date,\n",
    "        'Funding Provided':funding_provided,\n",
    "        'Funding Provider':funding_provider\n",
    "    }"
   ]
  },
  {
   "cell_type": "code",
   "execution_count": 19,
   "id": "8cc7cb43-1218-45fe-b301-76ec528bb5af",
   "metadata": {
    "tags": []
   },
   "outputs": [],
   "source": [
    "def create_email(template_info, my_contact_info, my_email):\n",
    "    #     Generate an email based on the provided information and template.\n",
    "\n",
    "    #     Args:\n",
    "    #         template_info (dict): Dictionary containing details for email generation.\n",
    "    #         my_contact_info (str): Contact information of the sender.\n",
    "\n",
    "    #     Returns:\n",
    "    #         str: The formatted email body.\n",
    "\n",
    "    contact_name = template_info.get('Contact Name', 'Recipient')\n",
    "    school_name = template_info.get('School Name', 'N/A')  # Adjust 'School Name' if it's a key in the dictionary\n",
    "    last_workshop_date = template_info.get('Last Workshop Date', 'N/A')\n",
    "    number_of_workshops = template_info.get('Number of Workshops', 0)\n",
    "    school_type = template_info.get('School Type', 'N/A')\n",
    "    funding_provider = template_info.get('Funding Provider', 'N/A')\n",
    "    funding_provided = template_info.get('Funding Provided', 'no')\n",
    "    \n",
    "    \n",
    "    # Define key dates\n",
    "    key_dates = [datetime(2024, 9, 20), datetime(2024, 1, 29), datetime(2024, 4, 15), datetime(2024, 7, 15), datetime(2024, 10, 7)]\n",
    "    \n",
    "    # Get the current date\n",
    "    current_date = datetime.now()\n",
    "\n",
    "    # Determine if the current date is within two weeks after any of the key dates\n",
    "    holiday_break_message = \"\"\n",
    "    for key_date in key_dates:\n",
    "        if key_date <= current_date <= key_date + timedelta(days=14):\n",
    "            holiday_break_message = \"Hope you have had a safe and restful holiday break!\"\n",
    "            break\n",
    "\n",
    "    # Email salutation\n",
    "    salutation = f\"Dear {contact_name} and {school_name},\" if contact_name else f\"Dear {school_name} and To Whom it May Concern,\"\n",
    "\n",
    "    # Introduction\n",
    "    introduction = f\"\"\"\n",
    "    {salutation}\n",
    "\n",
    "    {holiday_break_message}\n",
    "    \n",
    "    I am reaching out regarding our F2D Year 11 Workshop.\n",
    "\n",
    "    In case you need a refresher, The Fit to Drive Foundation is Victoria’s leading road safety education provider for young people. We pride ourselves on delivering relevant, informative, and interactive workshops with the support of key partners including Victoria Police and Fire Rescue Victoria.\n",
    "\n",
    "    The F2D Year 11 Workshop is Fit to Drive’s half-day incursion for students in Year 11 or equivalent cohorts (including VCAL students or those approximately 16-17 years old). \n",
    "    \"\"\"\n",
    "\n",
    "    # Determine cost\n",
    "    if school_type == 'GOV':\n",
    "        cost_message = \"**The cost to your school is only $300 + GST**, provided we can secure funding from your Local Government.\"\n",
    "    else:\n",
    "        cost_message = \"**The cost to your school is only $350 + GST**, provided we can secure funding from your Local Government.\"\n",
    "\n",
    "    # Determine funding message\n",
    "    funding_message = \"\"\n",
    "    if funding_provided.lower() == 'yes':  # Convert to lowercase for case-insensitive comparison\n",
    "        funding_message = f\"We have received funding in your local area by {funding_provider}.\"\n",
    "        \n",
    "    # Workshop engagement message\n",
    "    if number_of_workshops > 1:\n",
    "        engagement_message = f\"As our workshops are in high demand, and booking up quickly, we thought we would prioritize contacting your school as you have previously engaged in {number_of_workshops} workshops. Your last workshop was {last_workshop_date.strftime('%d %B %Y')}.\"\n",
    "    elif number_of_workshops == 1:\n",
    "        engagement_message = f\"As our workshops are in high demand, and booking up quickly, we thought we would prioritize contacting your school as you have engaged in one workshop. Your last workshop was {last_workshop_date.strftime('%d %B %Y')}.\"\n",
    "    else:\n",
    "        engagement_message = \"As our workshops are in high demand, and booking up quickly, we thought we would prioritize contacting your school as we would love to give you the opportunity to engage in your first workshop.\"\n",
    "\n",
    "    # Final details\n",
    "    email_body = f\"\"\"\n",
    "    {introduction}\n",
    "    \n",
    "    {cost_message}\n",
    "    \n",
    "    {funding_message}\n",
    "    \n",
    "    A flyer for the F2D Year 11 Workshop has been attached for your perusal.\n",
    "    \n",
    "    {engagement_message}\n",
    "    \n",
    "    Don’t miss out on this opportunity to bring crucial road safety education to your students.\n",
    "    \n",
    "    **Secure your booking now** – remaining places will be allocated on a first-come, first-serve basis. So don’t delay!\n",
    "    \n",
    "    **To make a booking:**\n",
    "    \n",
    "    1. Fill out the booking form on our website.\n",
    "    https://f2d.oxil.io/workshops/f-2-d-year-11-workshop/4/register\n",
    "    \n",
    "    2. Alternatively, reply to this email with the following details and I can book the workshop for you:\n",
    "       - What is your school’s name?\n",
    "       - What is your school’s Local Government Area (local council)?\n",
    "       - How many students are you looking to book the workshop for?\n",
    "       - What are your preferred dates for the workshop? (2-3 dates)\n",
    "       - Please include the following school times: start of school, start and end of recess, and start of lunchtime.\n",
    "    \n",
    "    If you need more information on the suitability of the program for your students, please don’t hesitate to get in touch. \n",
    "\n",
    "    We’re happy to work with you in delivering the message of road safety to all young road users with their specific needs in mind.\n",
    "\n",
    "    I look forward to hearing from you. Please contact me on {my_contact_info} if you require any further information.\n",
    "    \"\"\"\n",
    "\n",
    "    return email_body"
   ]
  },
  {
   "cell_type": "code",
   "execution_count": 20,
   "id": "d30f0d6f-3b16-41b6-9c5c-a0dd3594c6eb",
   "metadata": {
    "tags": []
   },
   "outputs": [],
   "source": [
    "def filter_schools_by_lga(df, lga_name):\n",
    "    # Filter the DataFrame by the provided LGA name\n",
    "    filtered_schools = df[df['LGA'].str.contains(lga_name, case=False, na=False)]\n",
    "    \n",
    "    # Return a list of all school names in the filtered DataFrame\n",
    "    return filtered_schools['Organisation Name'].tolist()"
   ]
  },
  {
   "cell_type": "code",
   "execution_count": 21,
   "id": "459ead7b-e6ed-4f5a-8132-fdef18119acb",
   "metadata": {
    "tags": []
   },
   "outputs": [],
   "source": [
    "file_path = 'MASTER Workshop Planner 2024.xlsx'\n",
    "\n",
    "# Specify the sheet name\n",
    "sheet_name = 'School List'\n",
    "\n",
    "# Load the Excel sheet into a pandas DataFrame\n",
    "df_schools = pd.read_excel(file_path, sheet_name=sheet_name, header=1)\n",
    "\n",
    "school_name = 'William Angliss Institute'\n",
    "\n",
    "template_info = extract_email_info(df_schools, school_name)"
   ]
  },
  {
   "cell_type": "code",
   "execution_count": 22,
   "id": "f9a6f33e-aad6-4005-af5b-85a0518042ec",
   "metadata": {
    "tags": []
   },
   "outputs": [
    {
     "data": {
      "text/plain": [
       "{'School Name': 'William Angliss Institute',\n",
       " 'Contact Name': 'Ross Baker',\n",
       " 'Contact Email': 'ross.baker@angliss.edu.au',\n",
       " 'Updated Contact Date': nan,\n",
       " 'Email General': 'info@angliss.edu.au',\n",
       " 'School Type': 'TAFE',\n",
       " 'LGA Name': 'Melbourne ',\n",
       " 'Number of Workshops': 4,\n",
       " 'Last Workshop Date': Timestamp('2021-03-05 00:00:00'),\n",
       " 'Funding Provided': 'No',\n",
       " 'Funding Provider': nan}"
      ]
     },
     "execution_count": 22,
     "metadata": {},
     "output_type": "execute_result"
    }
   ],
   "source": [
    "template_info"
   ]
  },
  {
   "cell_type": "code",
   "execution_count": 23,
   "id": "d47fa0f5-9ca8-4bde-9514-3527bd824e47",
   "metadata": {
    "tags": []
   },
   "outputs": [],
   "source": [
    "my_contact_info = '0420 588 629'\n",
    "my_email = 'charles.morgan@fittodrive.org.vic.au'\n",
    "\n",
    "email = create_email(template_info, my_contact_info, my_email)"
   ]
  },
  {
   "cell_type": "code",
   "execution_count": 24,
   "id": "9ac2799e-978f-4c81-b27e-8ba7be82527a",
   "metadata": {
    "collapsed": true,
    "jupyter": {
     "outputs_hidden": true
    },
    "tags": []
   },
   "outputs": [
    {
     "name": "stdout",
     "output_type": "stream",
     "text": [
      "\n",
      "    \n",
      "    Dear Ross Baker and William Angliss Institute,\n",
      "\n",
      "    \n",
      "    \n",
      "    I am reaching out regarding our F2D Year 11 Workshop.\n",
      "\n",
      "    In case you need a refresher, The Fit to Drive Foundation is Victoria’s leading road safety education provider for young people. We pride ourselves on delivering relevant, informative, and interactive workshops with the support of key partners including Victoria Police and Fire Rescue Victoria.\n",
      "\n",
      "    The F2D Year 11 Workshop is Fit to Drive’s half-day incursion for students in Year 11 or equivalent cohorts (including VCAL students or those approximately 16-17 years old). \n",
      "    \n",
      "    \n",
      "    **The cost to your school is only $350 + GST**, provided we can secure funding from your Local Government.\n",
      "    \n",
      "    \n",
      "    \n",
      "    A flyer for the F2D Year 11 Workshop has been attached for your perusal.\n",
      "    \n",
      "    As our workshops are in high demand, and booking up quickly, we thought we would prioritize contacting your school as you have previously engaged in 4 workshops. Your last workshop was 05 March 2021.\n",
      "    \n",
      "    Don’t miss out on this opportunity to bring crucial road safety education to your students.\n",
      "    \n",
      "    **Secure your booking now** – remaining places will be allocated on a first-come, first-serve basis. So don’t delay!\n",
      "    \n",
      "    **To make a booking:**\n",
      "    \n",
      "    1. Fill out the booking form on our website.\n",
      "    https://f2d.oxil.io/workshops/f-2-d-year-11-workshop/4/register\n",
      "    \n",
      "    2. Alternatively, reply to this email with the following details and I can book the workshop for you:\n",
      "       - What is your school’s name?\n",
      "       - What is your school’s Local Government Area (local council)?\n",
      "       - How many students are you looking to book the workshop for?\n",
      "       - What are your preferred dates for the workshop? (2-3 dates)\n",
      "       - Please include the following school times: start of school, start and end of recess, and start of lunchtime.\n",
      "    \n",
      "    If you need more information on the suitability of the program for your students, please don’t hesitate to get in touch. \n",
      "\n",
      "    We’re happy to work with you in delivering the message of road safety to all young road users with their specific needs in mind.\n",
      "\n",
      "    I look forward to hearing from you. Please contact me on 0420 588 629 if you require any further information.\n",
      "    \n"
     ]
    }
   ],
   "source": [
    "print(email)"
   ]
  },
  {
   "cell_type": "code",
   "execution_count": 28,
   "id": "b836fc3e-fb05-49ae-949a-ca42c44f6590",
   "metadata": {
    "tags": []
   },
   "outputs": [],
   "source": [
    "Melbourne_schools = filter_schools_by_lga(df_schools, 'Melbourne')"
   ]
  },
  {
   "cell_type": "code",
   "execution_count": 29,
   "id": "cb81a678-7e5e-4c37-b7fb-11e56fb8a4b0",
   "metadata": {},
   "outputs": [
    {
     "data": {
      "text/plain": [
       "['AMES Australia Flagstaff - Melbourne City',\n",
       " 'Box Hill Institute Lilydale Lakeside Campus ',\n",
       " 'Haileybury City Campus',\n",
       " 'Hester Hornbrook Academy',\n",
       " 'Holmes Grammar School',\n",
       " 'Kangan Institute Docklands Campus (ACE)',\n",
       " 'Kensington Community High School',\n",
       " 'Melbourne Girls Grammar',\n",
       " 'Melbourne Grammar School',\n",
       " 'Ozford College',\n",
       " 'Parkville College',\n",
       " 'River Nile School',\n",
       " 'Simonds Catholic College',\n",
       " 'St Aloysius College',\n",
       " \"St Joseph's Flexible Learning Centre North Melbourne\",\n",
       " \"Stott's College\",\n",
       " 'University High School',\n",
       " 'Victorian College For The Deaf',\n",
       " 'Victorian College Of The Arts Secondary School',\n",
       " 'Wesley College St Kilda Road Campus',\n",
       " 'William Angliss Institute']"
      ]
     },
     "execution_count": 29,
     "metadata": {},
     "output_type": "execute_result"
    }
   ],
   "source": [
    "Melbourne_schools"
   ]
  },
  {
   "cell_type": "code",
   "execution_count": null,
   "id": "244afbab-5dd4-4240-b969-23c647ff0462",
   "metadata": {},
   "outputs": [],
   "source": []
  }
 ],
 "metadata": {
  "kernelspec": {
   "display_name": "Python 3 (ipykernel)",
   "language": "python",
   "name": "python3"
  },
  "language_info": {
   "codemirror_mode": {
    "name": "ipython",
    "version": 3
   },
   "file_extension": ".py",
   "mimetype": "text/x-python",
   "name": "python",
   "nbconvert_exporter": "python",
   "pygments_lexer": "ipython3",
   "version": "3.10.12"
  }
 },
 "nbformat": 4,
 "nbformat_minor": 5
}
