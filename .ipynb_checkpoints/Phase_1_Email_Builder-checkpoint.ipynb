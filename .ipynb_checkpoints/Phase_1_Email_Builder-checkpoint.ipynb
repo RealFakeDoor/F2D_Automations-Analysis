{
 "cells": [
  {
   "cell_type": "code",
   "execution_count": 1,
   "id": "946e5342-a80b-45de-bf26-e6e55a6d693a",
   "metadata": {
    "tags": []
   },
   "outputs": [],
   "source": [
    "import pandas as pd\n",
    "import re\n",
    "from datetime import datetime, timedelta\n",
    "from docx import Document\n",
    "from docx.shared import Pt\n",
    "from docx.enum.text import WD_ALIGN_PARAGRAPH\n",
    "from docx.shared import Inches\n",
    "from docx.oxml.ns import qn\n",
    "from docx.oxml import OxmlElement"
   ]
  },
  {
   "cell_type": "code",
   "execution_count": 2,
   "id": "7df9e6f0-fbcb-46ba-846a-face356c1f97",
   "metadata": {
    "jupyter": {
     "source_hidden": true
    },
    "tags": []
   },
   "outputs": [],
   "source": [
    "# Define a function to extract dates in 'dd/mm/yyyy' format within a specified year range\n",
    "def extract_dates(series, start_year=2014, end_year=2024):\n",
    "    dates = []\n",
    "    for value in series:\n",
    "        if isinstance(value, str):  # Check if the value is a string\n",
    "            # Find all matches of the date pattern 'dd/mm/yyyy'\n",
    "            matches = re.findall(r'\\b\\d{2}/\\d{2}/\\d{4}\\b', value)\n",
    "            for match in matches:\n",
    "                year = int(match.split('/')[-1])  # Extract the year from the date\n",
    "                if start_year <= year <= end_year:\n",
    "                    dates.append(match)\n",
    "        elif pd.to_datetime(value, errors='coerce') is not pd.NaT:  # Check if the value is a valid date\n",
    "            # Convert to 'dd/mm/yyyy' format and add to list\n",
    "            formatted_date = pd.to_datetime(value).strftime('%d/%m/%Y')\n",
    "            year = pd.to_datetime(value).year\n",
    "            if start_year <= year <= end_year:\n",
    "                dates.append(formatted_date)\n",
    "    return dates"
   ]
  },
  {
   "cell_type": "code",
   "execution_count": 3,
   "id": "7e9b86e4-17ae-4abe-8c35-46696dc324d2",
   "metadata": {
    "jupyter": {
     "source_hidden": true
    },
    "tags": []
   },
   "outputs": [],
   "source": [
    "def extract_email_info(df_schools, school_name):\n",
    "    # Strip any leading/trailing whitespace from the column names\n",
    "    df_schools.columns = df_schools.columns.str.strip()\n",
    "\n",
    "    # Collect all data for that school in particular as a pandas.Series\n",
    "    school_data = df_schools[df_schools['Organisation Name'] == school_name]\n",
    "\n",
    "    if school_data.empty:\n",
    "        raise ValueError(f\"School with name '{school_name}' not found.\")\n",
    "\n",
    "    school_data = school_data.iloc[0]\n",
    "\n",
    "    # Access the pandas.Series to collect all relevant information for the email.\n",
    "\n",
    "    # Collect School Contact Name\n",
    "    contact_name = school_data['Contact Name']\n",
    "\n",
    "    # Collect Contact Email\n",
    "    contact_email = school_data['Contact Email Adress']\n",
    "\n",
    "    # Collect the updated contact date\n",
    "    updated_contact = school_data['Updated contact?']\n",
    "\n",
    "    # Collect Email General\n",
    "    email_general = school_data['Email General']\n",
    "\n",
    "    # Collect School Type\n",
    "    school_type = school_data['School Type']\n",
    "\n",
    "    # Collect the name of LGA\n",
    "    lga_name = school_data['LGA']\n",
    "\n",
    "    # Extract dates from the school_data Series\n",
    "    workshop_history = extract_dates(school_data)\n",
    "\n",
    "    # Convert the list of dates to a pandas Series\n",
    "    workshop_dates = pd.Series(pd.to_datetime(workshop_history, format='%d/%m/%Y', errors='coerce'))\n",
    "\n",
    "    # Drop any NaT values\n",
    "    workshop_dates = workshop_dates.dropna()\n",
    "\n",
    "    # Collect how many workshops this school has done\n",
    "    number_of_workshops = len(workshop_dates)\n",
    "\n",
    "    # Collect the date of the last workshop this school attended\n",
    "    last_workshop_date = workshop_dates.max()\n",
    "    \n",
    "    funding_provider = school_data.get('Funding provider', 'Not Available')\n",
    "    \n",
    "    funding_provided = school_data['Funding']\n",
    "\n",
    "    # Return all relevant information\n",
    "    return {\n",
    "        'School Name':school_name,\n",
    "        'Contact Name': contact_name,\n",
    "        'Contact Email': contact_email,\n",
    "        'Updated Contact Date': updated_contact,\n",
    "        'Email General': email_general,\n",
    "        'School Type': school_type,\n",
    "        'LGA Name': lga_name,\n",
    "        'Number of Workshops': number_of_workshops,\n",
    "        'Last Workshop Date': last_workshop_date,\n",
    "        'Funding Provided':funding_provided,\n",
    "        'Funding Provider':funding_provider\n",
    "    }"
   ]
  },
  {
   "cell_type": "code",
   "execution_count": 4,
   "id": "55d03ca2-6bfe-4b1a-b019-9f669113b2c8",
   "metadata": {
    "jupyter": {
     "source_hidden": true
    },
    "tags": []
   },
   "outputs": [],
   "source": [
    "def add_hyperlink(paragraph, text, url):\n",
    "    # Create a hyperlink element\n",
    "    part = paragraph.part\n",
    "    r_id = part.relate_to(url, 'http://schemas.openxmlformats.org/officeDocument/2006/relationships/hyperlink', is_external=True)\n",
    "\n",
    "    hyperlink = OxmlElement('w:hyperlink')\n",
    "    hyperlink.set(qn('r:id'), r_id)\n",
    "\n",
    "    # Create a run element with the hyperlink text\n",
    "    run = OxmlElement('w:r')\n",
    "    rPr = OxmlElement('w:rPr')\n",
    "\n",
    "    # Style the hyperlink (e.g., make it blue and underlined)\n",
    "    rStyle = OxmlElement('w:rStyle')\n",
    "    rStyle.set(qn('w:val'), 'Hyperlink')\n",
    "    rPr.append(rStyle)\n",
    "\n",
    "    run.append(rPr)\n",
    "    run.text = text\n",
    "    hyperlink.append(run)\n",
    "    paragraph._p.append(hyperlink)"
   ]
  },
  {
   "cell_type": "code",
   "execution_count": 16,
   "id": "188f3d8d-ae1d-4bc9-913f-2779c99f3847",
   "metadata": {
    "tags": []
   },
   "outputs": [],
   "source": [
    "def create_email(template_info, my_contact_info, my_email, output_file):\n",
    "    # Generate an email based on the provided information and template.\n",
    "\n",
    "    # Access all the dataframe information for the template construction.\n",
    "    contact_name = template_info.get('Contact Name', 'Recipient')\n",
    "    school_name = template_info.get('School Name', 'N/A')\n",
    "    last_workshop_date = template_info.get('Last Workshop Date', pd.NaT)\n",
    "    number_of_workshops = template_info.get('Number of Workshops', 0)\n",
    "    school_type = template_info.get('School Type', 'N/A')\n",
    "    funding_provider = template_info.get('Funding Provider', 'N/A')\n",
    "    funding_provided = template_info.get('Funding Provided', 'no')\n",
    "    email_general = template_info.get('Email General', '')\n",
    "    contact_email = template_info.get('Contact Email', 'N/A')\n",
    "    \n",
    "    # Convert potential NaT to default value if needed\n",
    "    if pd.isna(last_workshop_date):\n",
    "        last_workshop_date = 'N/A'\n",
    "    else:\n",
    "        last_workshop_date = last_workshop_date.strftime('%d %B %Y')\n",
    "\n",
    "    # Define key dates\n",
    "    key_dates = [datetime(2024, 9, 20), datetime(2024, 1, 29), datetime(2024, 4, 15), datetime(2024, 7, 15), datetime(2024, 10, 7)]\n",
    "    \n",
    "    # Get the current date\n",
    "    current_date = datetime.now()\n",
    "\n",
    "    # Determine if the current date is within two weeks after any of the key dates\n",
    "    holiday_break_message = \"\"\n",
    "    for key_date in key_dates:\n",
    "        if key_date <= current_date <= key_date + timedelta(days=14):\n",
    "            holiday_break_message = \"Hope you have had a safe and restful holiday break!\"\n",
    "            break\n",
    "\n",
    "    # Email salutation\n",
    "    salutation = f\"Dear {contact_name} and {school_name},\" if pd.notna(contact_name) else f\"Dear {school_name} and To Whom it May Concern,\"\n",
    "    \n",
    "    # Introduction Engagement Message\n",
    "    if number_of_workshops > 0:\n",
    "        intro_engagement_message = f\"Our F2D Workshop is back again! The last time you booked was {last_workshop_date}, don't forget the importance of road safety within your community.\"\n",
    "    else:\n",
    "        intro_engagement_message = \"You have never booked a Fit To Drive workshop before! Make road safety a priority within your community!\"\n",
    "\n",
    "    # Determine cost\n",
    "    cost_message = \"$300 + GST\" if school_type == 'GOV' else \"$350 + GST\"\n",
    "\n",
    "    # Determine funding message\n",
    "    funding_message = \"\"\n",
    "    if funding_provided.lower() == 'yes':\n",
    "        funding_message = f\"We have received funding in your local area by {funding_provider} in the past.\"\n",
    "        \n",
    "    # Workshop engagement message\n",
    "    if number_of_workshops > 1:\n",
    "        engagement_message = f\"As our workshops are in high demand and booking up quickly, we thought we would prioritize contacting your school as you have previously engaged in {number_of_workshops} workshops. Your last workshop was {last_workshop_date}.\"\n",
    "    elif number_of_workshops == 1:\n",
    "        engagement_message = f\"As our workshops are in high demand and booking up quickly, we thought we would prioritize contacting your school as you have engaged in one workshop. Your last workshop was {last_workshop_date}.\"\n",
    "    else:\n",
    "        engagement_message = \"As our workshops are in high demand and booking up quickly, we thought we would prioritize contacting your school as we would love to give you the opportunity to engage in your first workshop.\"\n",
    "  \n",
    "    # Put it all together to create the formatted email document.\n",
    "    # Create a new Document\n",
    "    doc = Document()\n",
    "    \n",
    "    # Change all font in the document to be Aptos size 12 font.\n",
    "    # Assuming font styling is applied correctly\n",
    "\n",
    "    # Add paragraphs\n",
    "    p = doc.add_paragraph('SUBJECT LINE: F2D: Make Road safety a priority! Book your road safety workshop today!')\n",
    "    \n",
    "    p = doc.add_paragraph(str(email_general))\n",
    "    if contact_email:\n",
    "        p = doc.add_paragraph(str(contact_email))\n",
    "    \n",
    "    p = doc.add_paragraph(salutation)\n",
    "    \n",
    "    # Make the following paragraph bold:\n",
    "    p = doc.add_paragraph(intro_engagement_message)\n",
    "    p.runs[0].bold = True\n",
    "        \n",
    "    if holiday_break_message:\n",
    "        doc.add_paragraph(holiday_break_message)\n",
    "    \n",
    "    # Introduction\n",
    "    p = doc.add_paragraph('I am reaching out regarding our F2D Year 11 Workshop.\\n\\nThe Fit to Drive Foundation is one of Victoria’s leading road safety education providers for young people.')\n",
    "    \n",
    "    p = doc.add_paragraph('We pride ourselves on delivering relevant, informative, and interactive workshops with the support of key partners including Victoria Police and Fire Rescue Victoria.')\n",
    "    \n",
    "    # Make the following paragraph bold:\n",
    "    p = doc.add_paragraph('The F2D Year 11 Workshop is Fit to Drive’s half-day incursion for students in Year 11 or equivalent cohorts (including VCAL students or those approximately 16-17 years old).')\n",
    "    p.runs[0].bold = True\n",
    "       \n",
    "    p = doc.add_paragraph('A flyer for the F2D Year 11 Workshop has been attached for your perusal.')\n",
    "    p = doc.add_picture('F2D_y11_WS_Info_graphic.png', width=Inches(4))\n",
    "    \n",
    "    # Create a paragraph\n",
    "    paragraph = doc.add_paragraph()\n",
    "\n",
    "    # Add the first part of the paragraph\n",
    "    paragraph.add_run('The cost to your school is only ')\n",
    "\n",
    "    # Add the bold part\n",
    "    bold_run = paragraph.add_run(cost_message)\n",
    "    bold_run.bold = True\n",
    "\n",
    "    # Add the remaining part of the paragraph\n",
    "    paragraph.add_run(', provided we can secure funding from your Local Government.')\n",
    "    \n",
    "    p = doc.add_paragraph(funding_message)\n",
    "    \n",
    "    p = doc.add_paragraph(engagement_message)\n",
    "    \n",
    "    p = doc.add_paragraph('Don’t miss out on this opportunity to bring crucial road safety education to your students.')\n",
    "    \n",
    "    # BOOKING INSTRUCTION MESSAGE:\n",
    "    p = doc.add_heading('TO MAKE A BOOKING:')\n",
    "    run = p.runs[0]\n",
    "    run.font.size = Pt(14)\n",
    "    \n",
    "    p = doc.add_paragraph('Fill out the booking form on our website:   ')\n",
    "    add_hyperlink(p, 'Click here', 'https://f2d.oxil.io/workshops/f-2-d-year-11-workshop/4/register')\n",
    "    \n",
    "    p = doc.add_paragraph(\"Alternatively, reply to this email with the following details and I can book the workshop for you:\")\n",
    "\n",
    "    # Adding each item as a bullet point\n",
    "    bullet_points = [\n",
    "        \"What is your school’s name?\",\n",
    "        \"What is your school’s Local Government Area (local council)?\",\n",
    "        \"How many students are you looking to book the workshop for?\",\n",
    "        \"What are your preferred dates for the workshop? (2-3 dates)\",\n",
    "        \"Please include the following school times: start of school, start and end of recess, and start of lunchtime.\"\n",
    "    ]\n",
    "\n",
    "    for point in bullet_points:\n",
    "        p = doc.add_paragraph(point, style='ListBullet')\n",
    "    \n",
    "    p = doc.add_paragraph('If you need more information on the suitability of the program for your students, please don’t hesitate to get in touch.') \n",
    "\n",
    "    p = doc.add_paragraph('We’re happy to work with you in delivering the message of road safety to all young road users with their specific needs in mind.')\n",
    "\n",
    "    p = doc.add_paragraph(f'I look forward to hearing from you. Please contact me on {my_contact_info} if you require any further information.')\n",
    "    \n",
    "    # Apply font styling to all paragraphs\n",
    "    for paragraph in doc.paragraphs:\n",
    "        for run in paragraph.runs:\n",
    "            run.font.name = 'Aptos'\n",
    "            run.font.size = Pt(12)\n",
    "    \n",
    "    doc.save(output_file)\n",
    "    \n",
    "    return output_file"
   ]
  },
  {
   "cell_type": "code",
   "execution_count": 6,
   "id": "d30f0d6f-3b16-41b6-9c5c-a0dd3594c6eb",
   "metadata": {
    "jupyter": {
     "source_hidden": true
    },
    "tags": []
   },
   "outputs": [],
   "source": [
    "def filter_schools_by_lga(df, lga_name):\n",
    "    # Filter the DataFrame by the provided LGA name\n",
    "    filtered_schools = df[df['LGA'].str.contains(lga_name, case=False, na=False)]\n",
    "    \n",
    "    # Return a list of all school names in the filtered DataFrame\n",
    "    return filtered_schools['Organisation Name'].tolist()"
   ]
  },
  {
   "cell_type": "code",
   "execution_count": 7,
   "id": "459ead7b-e6ed-4f5a-8132-fdef18119acb",
   "metadata": {
    "jupyter": {
     "source_hidden": true
    },
    "tags": []
   },
   "outputs": [],
   "source": [
    "file_path = 'MASTER Workshop Planner 2024.xlsx'\n",
    "\n",
    "# Specify the sheet name\n",
    "sheet_name = 'School List'\n",
    "\n",
    "# Load the Excel sheet into a pandas DataFrame\n",
    "df_schools = pd.read_excel(file_path, sheet_name=sheet_name, header=1)\n"
   ]
  },
  {
   "cell_type": "code",
   "execution_count": 13,
   "id": "1a0465c0-59ac-4fa1-9720-985d58156b0a",
   "metadata": {
    "tags": []
   },
   "outputs": [],
   "source": [
    "school_name = \"Oakwood School\"\n",
    "\n",
    "my_contact_info = '0420 588 629'\n",
    "my_email = 'charles.morgan@fittodrive.org.vic.au'\n",
    "file_name = f'Oakwood_School_F2D_workshop_email.docx'"
   ]
  },
  {
   "cell_type": "code",
   "execution_count": 14,
   "id": "3a85bc82-f46f-489f-81e9-2245b3e683c9",
   "metadata": {
    "tags": []
   },
   "outputs": [
    {
     "data": {
      "text/plain": [
       "{'School Name': 'Oakwood School',\n",
       " 'Contact Name': nan,\n",
       " 'Contact Email': nan,\n",
       " 'Updated Contact Date': nan,\n",
       " 'Email General': \"- Only have a 'Contact Us' form.\",\n",
       " 'School Type': 'IND',\n",
       " 'LGA Name': 'Frankston ',\n",
       " 'Number of Workshops': 0,\n",
       " 'Last Workshop Date': NaT,\n",
       " 'Funding Provided': 'Yes',\n",
       " 'Funding Provider': 'Arthur Seat Challenge'}"
      ]
     },
     "execution_count": 14,
     "metadata": {},
     "output_type": "execute_result"
    }
   ],
   "source": [
    "template_info = extract_email_info(df_schools, school_name)\n",
    "\n",
    "template_info"
   ]
  },
  {
   "cell_type": "code",
   "execution_count": 15,
   "id": "4deada7a-6c16-4a72-9593-2340a4e328ec",
   "metadata": {
    "tags": []
   },
   "outputs": [
    {
     "name": "stderr",
     "output_type": "stream",
     "text": [
      "C:\\Users\\morga\\anaconda3\\envs\\dev\\lib\\site-packages\\docx\\styles\\styles.py:130: UserWarning: style lookup by style_id is deprecated. Use style name as key instead.\n",
      "  return self._get_style_id_from_style(self[style_name], style_type)\n"
     ]
    }
   ],
   "source": [
    "email = create_email(template_info, my_contact_info, my_email, file_name)"
   ]
  },
  {
   "cell_type": "code",
   "execution_count": null,
   "id": "1ff9fc26-4e5a-4fbe-b557-638c02ef9f5b",
   "metadata": {},
   "outputs": [],
   "source": []
  }
 ],
 "metadata": {
  "kernelspec": {
   "display_name": "Python 3 (ipykernel)",
   "language": "python",
   "name": "python3"
  },
  "language_info": {
   "codemirror_mode": {
    "name": "ipython",
    "version": 3
   },
   "file_extension": ".py",
   "mimetype": "text/x-python",
   "name": "python",
   "nbconvert_exporter": "python",
   "pygments_lexer": "ipython3",
   "version": "3.10.12"
  }
 },
 "nbformat": 4,
 "nbformat_minor": 5
}
